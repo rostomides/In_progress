{
 "cells": [
  {
   "cell_type": "code",
   "execution_count": 1,
   "metadata": {},
   "outputs": [],
   "source": [
    "import tensorflow as tf\n",
    "from tensorflow.keras import layers\n",
    "from tensorflow.keras.layers import Dropout\n",
    "from tensorflow.keras import optimizers\n",
    "from tensorflow.keras.callbacks import EarlyStopping\n",
    "\n",
    "from sklearn.metrics import confusion_matrix\n",
    "from sklearn.metrics import classification_report\n",
    "from sklearn.metrics import roc_auc_score\n",
    "\n",
    "\n",
    "import re\n",
    "import math\n",
    "import numpy as np\n",
    "import pandas as pd\n",
    "import matplotlib\n",
    "import matplotlib.pyplot as plt\n",
    "import missingno\n",
    "import seaborn as sns\n",
    "plt.style.use('seaborn-whitegrid')\n",
    "%matplotlib inline"
   ]
  },
  {
   "cell_type": "code",
   "execution_count": 2,
   "metadata": {},
   "outputs": [],
   "source": [
    "#Create all tuples of parameters\n",
    "from itertools import product #Returns the cartesian product of lists (same as nested for loops)\n",
    "def All_params_grid(dico):\n",
    "    #Create list of keys and a list of values\n",
    "    keys = list(dico.keys())\n",
    "    values = dico.values()\n",
    "    #Create all possible combinations of parameters\n",
    "    params = []    \n",
    "    for value in product(*values):#Loop trough all the combination of values\n",
    "        subParam =dict() #reconstruct the dictionary of parameters\n",
    "        for i in range(len(keys)):           \n",
    "            subParam[str(keys[i])] = value[i] #Attribute the respective value to the respective key\n",
    "        params.append(subParam)\n",
    "    return(params)"
   ]
  },
  {
   "cell_type": "code",
   "execution_count": 3,
   "metadata": {},
   "outputs": [],
   "source": [
    "# Before loading the following dataset, be sure to run the preprocessing ipython"
   ]
  },
  {
   "cell_type": "code",
   "execution_count": 4,
   "metadata": {},
   "outputs": [],
   "source": [
    "data = pd.read_csv(\"1_dataset_ML_OHE_ready.csv\", index_col=0 )"
   ]
  },
  {
   "cell_type": "code",
   "execution_count": 5,
   "metadata": {},
   "outputs": [],
   "source": [
    "# # #take a sample for testing the code\n",
    "# import random\n",
    "# indecies = random.sample(range(len(data)), 500)\n",
    "# data = data.iloc[indecies]"
   ]
  },
  {
   "cell_type": "code",
   "execution_count": 6,
   "metadata": {},
   "outputs": [],
   "source": [
    "X = data.drop('readmitted', axis=1)\n",
    "Y = data['readmitted']"
   ]
  },
  {
   "cell_type": "code",
   "execution_count": 7,
   "metadata": {},
   "outputs": [],
   "source": [
    "#Split the dataset into training testing\n",
    "from sklearn.model_selection import train_test_split\n",
    "X_train, X_validation, y_train, y_validation = train_test_split(X, Y, test_size=0.1, random_state=101)\n",
    "\n",
    "X_train, X_test, y_train, y_test = train_test_split(X_train, y_train, test_size=0.2, random_state=101)"
   ]
  },
  {
   "cell_type": "code",
   "execution_count": 8,
   "metadata": {},
   "outputs": [],
   "source": [
    "#Scale the data\n",
    "from sklearn.preprocessing import StandardScaler\n",
    "Scaler = StandardScaler()\n",
    "X_train_scaled = Scaler.fit_transform(X_train)\n",
    "X_validation_scaled = Scaler.transform(X_validation)\n",
    "X_test_scaled = Scaler.transform(X_test)\n"
   ]
  },
  {
   "cell_type": "code",
   "execution_count": 9,
   "metadata": {},
   "outputs": [],
   "source": [
    "# Example of a function to setup a deep neural network\n",
    "#Build a wrapper function that returns the keras model\n",
    "\n",
    "def build_keras_model(n_hidden_layers = 3,\n",
    "                      activation_first= 'relu', \n",
    "                      activation_last = 'sigmoid', \n",
    "                      activation_middle_1 = 'relu',\n",
    "                      activation_middle_2 = 'relu',\n",
    "                      activation_before_decision_layers = 'relu',\n",
    "                      n_nodes_first_layer = 128,  \n",
    "                      n_nodes_deep_layers = 256, \n",
    "                      n_nodes_before_decision_layers = 128,\n",
    "                      optimizer=\"adam\"):\n",
    "    \n",
    "    model = tf.keras.Sequential()\n",
    "\n",
    "    model.add(layers.Dense(n_nodes_first_layer, activation=activation_first))\n",
    "    for i in range(n_hidden_layers):\n",
    "        # Adds a densely-connected layer with 64 units to the model:\n",
    "        if i%2 == 0:            \n",
    "            model.add(layers.Dense(n_nodes_deep_layers, activation=activation_middle_1))            \n",
    "        else:\n",
    "            model.add(layers.Dense(n_nodes_deep_layers, activation=activation_middle_2))\n",
    "            \n",
    "        model.add(layers.Dropout(0.3))\n",
    "            \n",
    "        \n",
    "    model.add(layers.Dense(n_nodes_before_decision_layers, activation=activation_before_decision_layers))\n",
    "    model.add(layers.Dropout(0.3))  \n",
    "        \n",
    "    # Last layer that (activation depends on the number of categories in the outcome):\n",
    "    model.add(layers.Dense(2, activation= activation_last ))\n",
    "#     sgd = SGD(lr=0.01, momentum=0.8, decay=0.0, nesterov=False)\n",
    "#     model.compile(loss='binary_crossentropy', optimizer=sgd, metrics=['accuracy'])\n",
    "    \n",
    "    \n",
    "    model.compile(optimizer=optimizer,\n",
    "#               loss='categorical_crossentropy',\n",
    "              loss='binary_crossentropy', \n",
    "              )\n",
    "    \n",
    "    return model\n"
   ]
  },
  {
   "cell_type": "code",
   "execution_count": 10,
   "metadata": {},
   "outputs": [],
   "source": [
    "#Custom training method with cross validation\n",
    "def trainKerasModel(params, x_train, y_train, x_validation, y_validation, n_epochs=100):\n",
    "    '''This function is used to train the model without any ensemble method'''    \n",
    "    #Create the model\n",
    "    model = build_keras_model(**params)\n",
    "    es = EarlyStopping(monitor='loss', mode='min', patience=5)\n",
    "    model.fit(x_train, y_train.values, epochs=n_epochs, batch_size=32,\n",
    "         callbacks = [es], verbose = 0)\n",
    "    \n",
    "    #Validation\n",
    "    pred = model.predict_classes(x_validation)\n",
    "    \n",
    "    #build returned object\n",
    "    \n",
    "    obj = {\n",
    "        'raw_model' : model,\n",
    "        'auc_score_validation': roc_auc_score(pred, y_validation)\n",
    "    }\n",
    "    \n",
    "    return (obj)"
   ]
  },
  {
   "cell_type": "code",
   "execution_count": 11,
   "metadata": {},
   "outputs": [],
   "source": [
    "params = {\n",
    "    'n_hidden_layers': [3, 5, 10, 15],\n",
    "    'activation_first': ['relu', 'sigmoid'], \n",
    "    'activation_last': ['sigmoid'], \n",
    "    'activation_middle_1' : ['relu', 'sigmoid'],\n",
    "    'activation_middle_2' : ['relu', 'sigmoid'],\n",
    "    'activation_before_decision_layers' : ['relu', 'sigmoid'],\n",
    "    'n_nodes_first_layer': [32, 64, 128],  \n",
    "    'n_nodes_deep_layers': [128, 256], \n",
    "    'n_nodes_before_decision_layers': [128, 256],\n",
    "    'optimizer':[\"adam\", 'sgd']\n",
    "}"
   ]
  },
  {
   "cell_type": "code",
   "execution_count": 12,
   "metadata": {},
   "outputs": [],
   "source": [
    "params =  All_params_grid(params)"
   ]
  },
  {
   "cell_type": "code",
   "execution_count": 13,
   "metadata": {},
   "outputs": [],
   "source": [
    "import random"
   ]
  },
  {
   "cell_type": "code",
   "execution_count": 14,
   "metadata": {},
   "outputs": [],
   "source": [
    "#Random shuffle params\n",
    "random.shuffle(params)"
   ]
  },
  {
   "cell_type": "code",
   "execution_count": 15,
   "metadata": {},
   "outputs": [
    {
     "ename": "AssertionError",
     "evalue": "invalid action: 'none'",
     "output_type": "error",
     "traceback": [
      "\u001b[1;31m---------------------------------------------------------------------------\u001b[0m",
      "\u001b[1;31mAssertionError\u001b[0m                            Traceback (most recent call last)",
      "\u001b[1;32m<ipython-input-15-cfcbc0cb2034>\u001b[0m in \u001b[0;36m<module>\u001b[1;34m\u001b[0m\n\u001b[0;32m      1\u001b[0m \u001b[1;32mimport\u001b[0m \u001b[0mwarnings\u001b[0m\u001b[1;33m\u001b[0m\u001b[1;33m\u001b[0m\u001b[0m\n\u001b[1;32m----> 2\u001b[1;33m \u001b[0mwarnings\u001b[0m\u001b[1;33m.\u001b[0m\u001b[0mfilterwarnings\u001b[0m\u001b[1;33m(\u001b[0m\u001b[0maction\u001b[0m\u001b[1;33m=\u001b[0m\u001b[1;34m\"none\"\u001b[0m\u001b[1;33m)\u001b[0m\u001b[1;33m\u001b[0m\u001b[1;33m\u001b[0m\u001b[0m\n\u001b[0m",
      "\u001b[1;32m~\\Anaconda3\\envs\\tf-gpu\\lib\\warnings.py\u001b[0m in \u001b[0;36mfilterwarnings\u001b[1;34m(action, message, category, module, lineno, append)\u001b[0m\n\u001b[0;32m    141\u001b[0m     \"\"\"\n\u001b[0;32m    142\u001b[0m     assert action in (\"error\", \"ignore\", \"always\", \"default\", \"module\",\n\u001b[1;32m--> 143\u001b[1;33m                       \"once\"), \"invalid action: %r\" % (action,)\n\u001b[0m\u001b[0;32m    144\u001b[0m     \u001b[1;32massert\u001b[0m \u001b[0misinstance\u001b[0m\u001b[1;33m(\u001b[0m\u001b[0mmessage\u001b[0m\u001b[1;33m,\u001b[0m \u001b[0mstr\u001b[0m\u001b[1;33m)\u001b[0m\u001b[1;33m,\u001b[0m \u001b[1;34m\"message must be a string\"\u001b[0m\u001b[1;33m\u001b[0m\u001b[1;33m\u001b[0m\u001b[0m\n\u001b[0;32m    145\u001b[0m     \u001b[1;32massert\u001b[0m \u001b[0misinstance\u001b[0m\u001b[1;33m(\u001b[0m\u001b[0mcategory\u001b[0m\u001b[1;33m,\u001b[0m \u001b[0mtype\u001b[0m\u001b[1;33m)\u001b[0m\u001b[1;33m,\u001b[0m \u001b[1;34m\"category must be a class\"\u001b[0m\u001b[1;33m\u001b[0m\u001b[1;33m\u001b[0m\u001b[0m\n",
      "\u001b[1;31mAssertionError\u001b[0m: invalid action: 'none'"
     ]
    }
   ],
   "source": [
    "import warnings\n",
    "warnings.filterwarnings(action=\"none\")"
   ]
  },
  {
   "cell_type": "code",
   "execution_count": null,
   "metadata": {},
   "outputs": [],
   "source": [
    "best_model = None\n",
    "\n",
    "count = 0\n",
    "\n",
    "\n",
    "for param in params: \n",
    "    \n",
    "    count+=1\n",
    "\n",
    "    print(\"Training model number {}/{}\".format(count, len(params)))\n",
    "\n",
    "    found = False\n",
    "    \n",
    "    try:\n",
    "        model = trainKerasModel(param, X_train_scaled, y_train, X_validation_scaled, y_validation, n_epochs=1)\n",
    "        \n",
    "        if best_model is None:\n",
    "            best_model = model\n",
    "            found = True\n",
    "        elif model['auc_score_validation'] > best_model['auc_score_validation']:\n",
    "            best_model = model\n",
    "            found = True\n",
    "        \n",
    "        \n",
    "        if found:\n",
    "            model['raw_model'].save(\"Deep_nn_best_model.h5\")\n",
    "            \n",
    "    except:\n",
    "        print(\"Problem with model number {} !\".format(count))\n",
    "        continue  "
   ]
  },
  {
   "cell_type": "code",
   "execution_count": null,
   "metadata": {},
   "outputs": [],
   "source": [
    "#model = tf.keras.models.load_model('Deep_nn_best_model.h5')"
   ]
  },
  {
   "cell_type": "code",
   "execution_count": null,
   "metadata": {},
   "outputs": [],
   "source": []
  }
 ],
 "metadata": {
  "kernelspec": {
   "display_name": "Python 3",
   "language": "python",
   "name": "python3"
  },
  "language_info": {
   "codemirror_mode": {
    "name": "ipython",
    "version": 3
   },
   "file_extension": ".py",
   "mimetype": "text/x-python",
   "name": "python",
   "nbconvert_exporter": "python",
   "pygments_lexer": "ipython3",
   "version": "3.7.3"
  }
 },
 "nbformat": 4,
 "nbformat_minor": 2
}
