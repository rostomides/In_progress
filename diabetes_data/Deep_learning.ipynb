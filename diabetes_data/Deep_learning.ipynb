{
 "cells": [
  {
   "cell_type": "code",
   "execution_count": null,
   "metadata": {},
   "outputs": [],
   "source": [
    "import tensorflow as tf\n",
    "from tensorflow.keras import layers\n",
    "from keras.layers import Dropout\n",
    "from keras import optimizers\n",
    "\n",
    "\n",
    "from sklearn.metrics import confusion_matrix\n",
    "from sklearn.metrics import classification_report\n",
    "from sklearn.metrics import roc_auc_score\n",
    "\n",
    "\n",
    "import re\n",
    "import math\n",
    "import numpy as np\n",
    "import pandas as pd\n",
    "import matplotlib\n",
    "import matplotlib.pyplot as plt\n",
    "import missingno\n",
    "import seaborn as sns\n",
    "plt.style.use('seaborn-whitegrid')\n",
    "%matplotlib inline"
   ]
  },
  {
   "cell_type": "code",
   "execution_count": null,
   "metadata": {},
   "outputs": [],
   "source": [
    "# Before loading the following dataset, be sure to run the preprocessing ipython"
   ]
  },
  {
   "cell_type": "code",
   "execution_count": null,
   "metadata": {},
   "outputs": [],
   "source": [
    "data = pd.read_csv(\"1_dataset_ML_ready.csv\", index_col=0 )"
   ]
  },
  {
   "cell_type": "code",
   "execution_count": null,
   "metadata": {},
   "outputs": [],
   "source": [
    "#take a sample for testing the code\n",
    "import random\n",
    "indecies = random.sample(range(len(data)), 500)\n",
    "data = data.iloc[indecies]"
   ]
  },
  {
   "cell_type": "code",
   "execution_count": null,
   "metadata": {},
   "outputs": [],
   "source": [
    "X = data.drop('readmitted', axis=1)\n",
    "Y = data['readmitted']"
   ]
  },
  {
   "cell_type": "code",
   "execution_count": null,
   "metadata": {},
   "outputs": [],
   "source": [
    "#Split the dataset into training testing\n",
    "from sklearn.model_selection import train_test_split\n",
    "X_train, X_test, y_train, y_test = train_test_split(X, Y, test_size=0.2, random_state=101)"
   ]
  },
  {
   "cell_type": "code",
   "execution_count": null,
   "metadata": {},
   "outputs": [],
   "source": [
    "#Scale the data\n",
    "from sklearn.preprocessing import StandardScaler\n",
    "Scaler = StandardScaler()\n",
    "X_train_scaled = Scaler.fit_transform(X_train)\n",
    "X_test_scaled = Scaler.transform(X_test)"
   ]
  },
  {
   "cell_type": "code",
   "execution_count": null,
   "metadata": {},
   "outputs": [],
   "source": [
    "# Use the sklearn GridSearch capability with a keras model\n",
    "#Wrap keras into a scikitlearn model\n",
    "from tensorflow.keras.wrappers.scikit_learn import KerasClassifier\n",
    "\n",
    "\n",
    "#Build a wrapper function that returns the keras model\n",
    "def build_keras_model(n_hidden_layers = 3,\n",
    "                      activation_first= 'relu', \n",
    "                      activation_last = 'sigmoid', \n",
    "                      activation_middle_1 = 'relu',\n",
    "                      activation_middle_2 = 'relu',\n",
    "                      activation_before_decision_layers = 'relu',\n",
    "                      n_nodes_first_layer = 128,  \n",
    "                      n_nodes_deep_layers = 256, \n",
    "                      n_nodes_before_decision_layers = 128,\n",
    "                      optimizer=\"adam\"):\n",
    "    \n",
    "    model = tf.keras.Sequential()\n",
    "\n",
    "    model.add(layers.Dense(n_nodes_first_layer, activation=activation_first))\n",
    "    for i in range(n_hidden_layers):\n",
    "        # Adds a densely-connected layer with 64 units to the model:\n",
    "        if i%2 == 0:            \n",
    "            model.add(layers.Dense(n_nodes_deep_layers, activation=activation_middle_1))            \n",
    "        else:\n",
    "            model.add(layers.Dense(n_nodes_deep_layers, activation=activation_middle_2))\n",
    "            \n",
    "        model.add(layers.Dropout(0.3))\n",
    "            \n",
    "        \n",
    "    model.add(layers.Dense(n_nodes_before_decision_layers, activation=activation_before_decision_layers))\n",
    "    model.add(layers.Dropout(0.3))  \n",
    "        \n",
    "    # Last layer that (activation depends on the number of categories in the outcome):\n",
    "    model.add(layers.Dense(2, activation= activation_last ))\n",
    "#     sgd = SGD(lr=0.01, momentum=0.8, decay=0.0, nesterov=False)\n",
    "#     model.compile(loss='binary_crossentropy', optimizer=sgd, metrics=['accuracy'])\n",
    "    \n",
    "    model.compile(optimizer=optimizer,\n",
    "#               loss='categorical_crossentropy',\n",
    "              loss='binary_crossentropy', \n",
    "              metrics=['accuracy'])\n",
    "    \n",
    "    return model\n"
   ]
  },
  {
   "cell_type": "code",
   "execution_count": null,
   "metadata": {},
   "outputs": [],
   "source": [
    "from sklearn.model_selection import GridSearchCV\n",
    "params = {\n",
    "    'n_hidden_layers': [3, 5, 10, 15],\n",
    "    'activation_first': ['relu', 'sigmoid'], \n",
    "    'activation_last': ['sigmoid'], \n",
    "    'activation_middle_1' : ['relu', 'sigmoid'],\n",
    "    'activation_middle_2' : ['relu', 'sigmoid'],\n",
    "    'activation_before_decision_layers' : ['relu', 'sigmoid'],\n",
    "    'n_nodes_first_layer': [64, 128, 256],  \n",
    "    'n_nodes_deep_layers': [128, 256], \n",
    "    'n_nodes_before_decision_layers': [128, 256],\n",
    "    'optimizer':[\"adam\", 'sgd']\n",
    "}\n",
    "gs_model = GridSearchCV(estimator=keras_model, param_grid=params,n_jobs= -1)\n",
    "gs_model.fit(X_train_scaled, y_train)"
   ]
  },
  {
   "cell_type": "code",
   "execution_count": null,
   "metadata": {},
   "outputs": [],
   "source": [
    "# In progress\n",
    "\n"
   ]
  }
 ],
 "metadata": {
  "kernelspec": {
   "display_name": "Python 3",
   "language": "python",
   "name": "python3"
  },
  "language_info": {
   "codemirror_mode": {
    "name": "ipython",
    "version": 3
   },
   "file_extension": ".py",
   "mimetype": "text/x-python",
   "name": "python",
   "nbconvert_exporter": "python",
   "pygments_lexer": "ipython3",
   "version": "3.7.1"
  }
 },
 "nbformat": 4,
 "nbformat_minor": 2
}
